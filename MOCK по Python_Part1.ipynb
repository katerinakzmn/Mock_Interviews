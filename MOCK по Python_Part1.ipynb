{
 "cells": [
  {
   "cell_type": "markdown",
   "id": "ad697b0c-8be8-40ad-9540-35a88c5e448e",
   "metadata": {},
   "source": [
    "### MOCK Interview Python/Basic level"
   ]
  },
  {
   "cell_type": "markdown",
   "id": "faa7464f-86b3-4127-9d8b-d51ba7bb7c9c",
   "metadata": {},
   "source": [
    "<div style=\"background-color: #eef5fa; padding: 15px; \">\n",
    "    <h2 style=\"margin-top: 0; color: black;\">Какие типы данных есть в Python?</h2>\n",
    "        <h2 style=\"margin-top: 0; color: black;\">Какие типы данных изменяемые, а какие неизменяемые?</h2>\n",
    "</div>"
   ]
  },
  {
   "cell_type": "markdown",
   "id": "6d8b6a0d-2ca7-4b3e-b18c-19e85069da01",
   "metadata": {},
   "source": [
    "| Неизменяемые                           | Изменяемые                            |\n",
    "|----------------------------------------|---------------------------------------|\n",
    "| str (строки)                                    | list (списки)                                  | \n",
    "|     bytes (байты)                             | set                                   | \n",
    "| int (целые числа)                                    | dict (словари)                                  | \n",
    "|       float (числа с плавающей точкой)                            | bytearray                             | \n",
    "|complex (комплексные числа)                                 |memoryview                             |\n",
    "|bool (булевые значения)                                    |                                       |\n",
    "|None                                    |                                       |\n",
    "|turple (картежи)                                  |                                       |\n",
    "|frozenset                               |                                       |"
   ]
  },
  {
   "cell_type": "markdown",
   "id": "cda2cb74-0691-4ab6-a1dc-7919dc600ca6",
   "metadata": {},
   "source": [
    "<div style=\"background-color: #eef5fa; padding: 15px; \">\n",
    "    <h2 style=\"margin-top: 0; color: black;\">Возможно ли изменить элемент в кортеже, если кортеж - неизменяемый тип данных?</h2>\n",
    "</div>"
   ]
  },
  {
   "cell_type": "markdown",
   "id": "606893bc-e332-4878-b9de-743dbf631349",
   "metadata": {},
   "source": [
    "Кортеж хоть и является неизменяемым типом данных(то есть нельзя менять его структуру), но он может содержать в себе изменяемые значения, а их изменить можно"
   ]
  },
  {
   "cell_type": "code",
   "execution_count": 3,
   "id": "c1ec9bea-eef2-41b3-b3d0-ab1895ae1c49",
   "metadata": {},
   "outputs": [],
   "source": [
    "a = ([],1)"
   ]
  },
  {
   "cell_type": "code",
   "execution_count": 4,
   "id": "8079e1c1-32da-4e3b-8d2d-e2f413a1874f",
   "metadata": {},
   "outputs": [
    {
     "name": "stdout",
     "output_type": "stream",
     "text": [
      "([2], 1)\n"
     ]
    }
   ],
   "source": [
    "a[0].append(2)\n",
    "print(a)"
   ]
  },
  {
   "cell_type": "markdown",
   "id": "fa43a0e8-990d-4d04-aa63-96a9c67d7247",
   "metadata": {},
   "source": [
    "<div style=\"background-color: #eef5fa; padding: 15px; \">\n",
    "    <h2 style=\"margin-top: 0; color: black;\">Что такое list, set, dict comprehensions?  Приведите примеры использования.</h2>\n",
    "</div>"
   ]
  },
  {
   "cell_type": "markdown",
   "id": "00c428c0-a847-4290-8b48-18e7d13028af",
   "metadata": {},
   "source": [
    "По сути это сокращение для следующего кода"
   ]
  },
  {
   "cell_type": "code",
   "execution_count": 5,
   "id": "64b6af2a-eb0d-4287-b6e6-97dfc8ce4aad",
   "metadata": {},
   "outputs": [
    {
     "name": "stdout",
     "output_type": "stream",
     "text": [
      "[0, 1, 2, 3, 4]\n"
     ]
    }
   ],
   "source": [
    "a = []\n",
    "for i in range(5):\n",
    "    a.append(i)\n",
    "print(a)"
   ]
  },
  {
   "cell_type": "markdown",
   "id": "66558c52-e2f8-4118-83eb-c081bc4e71c6",
   "metadata": {},
   "source": [
    "То есть следующая запись"
   ]
  },
  {
   "cell_type": "code",
   "execution_count": 7,
   "id": "3a8f5f8c-29ba-4c8f-a2e9-7d76f5e5b3fd",
   "metadata": {},
   "outputs": [
    {
     "name": "stdout",
     "output_type": "stream",
     "text": [
      "[0, 1, 2, 3, 4]\n"
     ]
    }
   ],
   "source": [
    "l = [i for i in range(5)]\n",
    "print(l)\n",
    "#здесь также можно использовать условия\n",
    "#l = [i for i in range(5) if i % 2 == 0]"
   ]
  },
  {
   "cell_type": "markdown",
   "id": "a1840848-729f-47fc-85e4-33653f8e6244",
   "metadata": {},
   "source": [
    "List Comprehensions - []\n",
    "Set Comprehensions - {}\n",
    "Dict Comprehensions - {} + значение для ключа"
   ]
  },
  {
   "cell_type": "code",
   "execution_count": 9,
   "id": "b94b123d-df23-4502-9ba3-9583e01e8b19",
   "metadata": {},
   "outputs": [
    {
     "name": "stdout",
     "output_type": "stream",
     "text": [
      "{0: 0, 2: 4, 4: 16}\n"
     ]
    }
   ],
   "source": [
    "dictcom = {i: i**2 for i in range(5) if i % 2 == 0}\n",
    "print(l)"
   ]
  },
  {
   "cell_type": "markdown",
   "id": "e8f9b65f-d97d-449e-b1f9-f4cb67c46a4d",
   "metadata": {},
   "source": [
    "<div style=\"background-color: #eef5fa; padding: 15px; \">\n",
    "    <h2 style=\"margin-top: 0; color: black;\">Какая разница между операторами == и is ?</h2>\n",
    "</div>"
   ]
  },
  {
   "cell_type": "markdown",
   "id": "26a312c4-a015-4617-ae8f-d1b08cfe23d4",
   "metadata": {},
   "source": [
    "== - сравнивает два операнда по их значениям\n",
    "is - проверяет что две переменные ссылаются на один и тот же объект"
   ]
  },
  {
   "cell_type": "code",
   "execution_count": 11,
   "id": "f9e93606-a610-4419-a8c9-879ad9b27e1a",
   "metadata": {},
   "outputs": [],
   "source": [
    "a = [1,2,3]\n",
    "b = [1,2,3]\n",
    "c = a"
   ]
  },
  {
   "cell_type": "code",
   "execution_count": 12,
   "id": "1a160f1a-7440-48be-ae07-14da475d4047",
   "metadata": {},
   "outputs": [
    {
     "name": "stdout",
     "output_type": "stream",
     "text": [
      "True\n",
      "False\n",
      "True\n"
     ]
    }
   ],
   "source": [
    "print(a == b)\n",
    "print(b is c)\n",
    "print(a is c)"
   ]
  },
  {
   "cell_type": "markdown",
   "id": "51c7944d-599b-4921-809c-4e872840c122",
   "metadata": {},
   "source": [
    "<div style=\"background-color: #eef5fa; padding: 15px; \">\n",
    "    <h2 style=\"margin-top: 0; color: black;\">Что такое глубокая(deep) и поверхностная(shallow) копия? </h2>\n",
    "        <h2 style=\"margin-top: 0; color: black;\">Зачем они нужны? </h2>\n",
    "        <h2 style=\"margin-top: 0; color: black;\">Как их сделать? </h2>\n",
    "</div>"
   ]
  },
  {
   "cell_type": "markdown",
   "id": "b8b64338-ee55-4672-80e1-22b3a2c400b7",
   "metadata": {},
   "source": [
    "* Поверхностная - создает копию самого объекта, но ссылки на все внутренние объекты будут сохранены\n",
    "* Глубокая - копируется внешний объект и рекурсивно копируются внутренние"
   ]
  },
  {
   "cell_type": "code",
   "execution_count": 13,
   "id": "2ccf2a41-c569-4184-a8fc-b9560b3f4841",
   "metadata": {},
   "outputs": [],
   "source": [
    "a = [1,[2]]\n",
    "b = a\n",
    "b.append(3)\n",
    "b[1].append(4)"
   ]
  },
  {
   "cell_type": "code",
   "execution_count": 15,
   "id": "6a33b72b-b6d1-4cb6-bc33-e86e93b004b6",
   "metadata": {},
   "outputs": [
    {
     "name": "stdout",
     "output_type": "stream",
     "text": [
      "[1, [2, 4], 3]\n"
     ]
    }
   ],
   "source": [
    "print(a)#а тоже поменялась, т.к. они ссылаются на один и тот же объект в памяти\n",
    "#чтобы такое не происходило и существуют копии"
   ]
  },
  {
   "cell_type": "code",
   "execution_count": 16,
   "id": "e8cab83a-34b9-42bb-84f7-1690cdddb184",
   "metadata": {},
   "outputs": [],
   "source": [
    "#Поверхностная копия\n",
    "a = [1,[2]]\n",
    "import copy\n",
    "b = copy.copy(a)\n",
    "b.append(3)\n",
    "b[1].append(4)\n",
    "#ещё варианты\n",
    "# b = (list(a),a[:],[i for i in a], a.copy())"
   ]
  },
  {
   "cell_type": "code",
   "execution_count": 17,
   "id": "7cd57517-322d-4892-86c0-e13c9e25064e",
   "metadata": {},
   "outputs": [
    {
     "name": "stdout",
     "output_type": "stream",
     "text": [
      "[1, [2, 4]]\n"
     ]
    }
   ],
   "source": [
    "print(a)"
   ]
  },
  {
   "cell_type": "code",
   "execution_count": 18,
   "id": "9628ed5a-3138-4e11-978f-0800d459fc1a",
   "metadata": {},
   "outputs": [],
   "source": [
    "#Глубокая копия\n",
    "a = [1,[2]]\n",
    "import copy\n",
    "b = copy.deepcopy(a)#в данном случае создаем поверхностную копию\n",
    "b.append(3)\n",
    "b[1].append(4)"
   ]
  },
  {
   "cell_type": "code",
   "execution_count": 19,
   "id": "304c476b-33ce-4071-9046-f1e817f31d22",
   "metadata": {},
   "outputs": [
    {
     "name": "stdout",
     "output_type": "stream",
     "text": [
      "[1, [2]]\n"
     ]
    }
   ],
   "source": [
    "print(a)"
   ]
  },
  {
   "cell_type": "markdown",
   "id": "4ebacfef-b77b-4f0f-a532-df2e7b03bebc",
   "metadata": {},
   "source": [
    "<div style=\"background-color: #eef5fa; padding: 15px; \">\n",
    "    <h2 style=\"margin-top: 0; color: black;\">Как работают операторы and, or, not? Что они возвращают?</h2>\n",
    "</div>"
   ]
  },
  {
   "cell_type": "markdown",
   "id": "bc4c8f55-160a-4d25-9b8d-9fd2a670dea9",
   "metadata": {},
   "source": [
    "* not -> True, False\n",
    "* and -> Возвращает сами объекты (если первый оперант эквивалентен False -> первый оперант\n",
    "если первый оперант эквивалентен True -> второй оперант)\n",
    "* or -> Возвращает сами объекты (если первый оперант эквивалентен False -> второй оперант\n",
    "если первый оперант эквивалентен True -> первый оперант)"
   ]
  },
  {
   "cell_type": "markdown",
   "id": "763c4ad6-27e1-4547-8d17-657a970642ab",
   "metadata": {},
   "source": [
    "<div style=\"background-color: #eef5fa; padding: 15px; \">\n",
    "    <h2 style=\"margin-top: 0; color: black;\">Знакомы ли тебе такие функции как map, filter, zip? Приведи примеры их использования.</h2>\n",
    "</div>"
   ]
  },
  {
   "cell_type": "markdown",
   "id": "0497035d-b42a-4853-8271-186c9146e44c",
   "metadata": {},
   "source": [
    "* **map** - Подобно функции filter(), map() также принимает еще одну функцию, с помощью которой перебираются все элементы по очереди.\n",
    "* **filter** - Функция filter() применяется для простой фильтрации итерабельного объекта без необходимости создания собственного цикла или дополнительных переменных. Все, что вам потребуется,  — это функция filter(), возвращающая либо True, либо False, в зависимости от условия. Если функция возвращает False, то элемент будет удален из итерабельного объекта, если True  —  останется.\n",
    "* **zip** - Функция zip() попарно объединяет элементы переданных коллекций по их индексу и возвращает специальный объект zip, который можно преобразовать в список или кортеж, состоящий из кортежей."
   ]
  },
  {
   "cell_type": "code",
   "execution_count": 1,
   "id": "0a51f4bd-c368-42d3-a622-8c6a8463a439",
   "metadata": {},
   "outputs": [
    {
     "name": "stdout",
     "output_type": "stream",
     "text": [
      "[0, 1, 4, 9, 16]\n"
     ]
    }
   ],
   "source": [
    "a = [i for i in range(5)]\n",
    "b = map(lambda x: x**2, a)\n",
    "print(list(b))"
   ]
  },
  {
   "cell_type": "code",
   "execution_count": 2,
   "id": "ea66da35-1181-4c89-9697-0f7fcc2fc1ab",
   "metadata": {},
   "outputs": [
    {
     "name": "stdout",
     "output_type": "stream",
     "text": [
      "<filter object at 0x000001BCB912E140>\n",
      "[0, 2, 4]\n"
     ]
    }
   ],
   "source": [
    "a = [i for i in range(5)]\n",
    "b = filter(lambda x: x%2 == 0, a)\n",
    "print(b)\n",
    "print(list(b))"
   ]
  },
  {
   "cell_type": "code",
   "execution_count": 3,
   "id": "65432cf1-2455-4725-879c-c11dcaf08b8a",
   "metadata": {},
   "outputs": [
    {
     "name": "stdout",
     "output_type": "stream",
     "text": [
      "(1, 4, 8)\n",
      "(2, 5, 9)\n"
     ]
    }
   ],
   "source": [
    "a = [1,2,3]\n",
    "b = [4,5,6,7]\n",
    "c = [8, 9]\n",
    "for i in zip(a,b,c):\n",
    "    print(i)"
   ]
  },
  {
   "cell_type": "markdown",
   "id": "5f698970-5287-4906-aa72-eca4a5547267",
   "metadata": {},
   "source": [
    "<div style=\"background-color: #eef5fa; padding: 15px; \">\n",
    "    <h2 style=\"margin-top: 0; color: black;\">Что такое функция?</h2>\n",
    "        <h2 style=\"margin-top: 0; color: black;\">Какие преимущества использования функций?</h2>\n",
    "</div>"
   ]
  },
  {
   "cell_type": "markdown",
   "id": "d64f1d28-9014-40e5-9f36-19763ed7d388",
   "metadata": {},
   "source": [
    "**Функция** - именованный блок кода, к которому можно обратиться (вызвать)  из другого места программы. \n",
    "\n",
    "Преимущество - повторное использование кода, избегание повторов блоков кода(DRY)."
   ]
  },
  {
   "cell_type": "markdown",
   "id": "43041ce5-d70f-49eb-9f0b-c78b6285ed62",
   "metadata": {},
   "source": [
    "<div style=\"background-color: #eef5fa; padding: 15px; \">\n",
    "    <h2 style=\"margin-top: 0; color: black;\">Какой будет результат выполнения функции, если в ней нет оператора return?</h2>\n",
    "</div>"
   ]
  },
  {
   "cell_type": "markdown",
   "id": "04f06080-ca7e-4184-83e2-6a470465c432",
   "metadata": {},
   "source": [
    "**None**"
   ]
  },
  {
   "cell_type": "code",
   "execution_count": 4,
   "id": "36bda1ec-1008-4ad5-9bd5-47d3b7f8dcb9",
   "metadata": {},
   "outputs": [
    {
     "name": "stdout",
     "output_type": "stream",
     "text": [
      "None\n"
     ]
    }
   ],
   "source": [
    "def some():\n",
    "    pass\n",
    "\n",
    "a = some()\n",
    "print(a)"
   ]
  },
  {
   "cell_type": "markdown",
   "id": "96c9fbb2-114b-4d01-87e6-419989be5932",
   "metadata": {},
   "source": [
    "<div style=\"background-color: #eef5fa; padding: 15px; \">\n",
    "    <h2 style=\"margin-top: 0; color: black;\">Что такое аннотации типов? Зачем они нужны? Когда выполняются аннотации типов?</h2>\n",
    "</div>"
   ]
  },
  {
   "cell_type": "markdown",
   "id": "ac4f288f-f209-4570-a17c-af3f88eaae0b",
   "metadata": {},
   "source": [
    "Аннотации типов — это возможность указать типы параметров и возвращаемое значение у функции в Python (своеобразные подсказки какого типа аргумент мы ожидаем получить)."
   ]
  },
  {
   "cell_type": "code",
   "execution_count": 6,
   "id": "a35c6313-0d8e-4f23-8ebc-23a0bd16d80c",
   "metadata": {},
   "outputs": [
    {
     "data": {
      "text/plain": [
       "2.085136"
      ]
     },
     "execution_count": 6,
     "metadata": {},
     "output_type": "execute_result"
    }
   ],
   "source": [
    "def some(a: int) -> int:\n",
    "    return a**2\n",
    "\n",
    "some(1.444)"
   ]
  },
  {
   "cell_type": "markdown",
   "id": "75e355e8-f70a-4059-a5fe-4597c3301c1b",
   "metadata": {},
   "source": [
    "<div style=\"background-color: #eef5fa; padding: 15px; \">\n",
    "    <h2 style=\"margin-top: 0; color: black;\">Как в Python передаются аргументы в функцию?</h2>\n",
    "</div>"
   ]
  },
  {
   "cell_type": "markdown",
   "id": "ccd85cb5-db83-46ca-ac25-64155e9e647d",
   "metadata": {},
   "source": [
    "Вообще есть два типа передачи информации в функцию: по ссылки и по значению.\n",
    "В Python все аргументы в функцию передаются по ссылки."
   ]
  },
  {
   "cell_type": "markdown",
   "id": "2781613d-80a3-43c8-baa9-696bee8cdcf0",
   "metadata": {},
   "source": [
    "<div style=\"background-color: #eef5fa; padding: 15px; \">\n",
    "    <h2 style=\"margin-top: 0; color: black;\">Что будет, если использовать значение изменяемого типа в качестве аргумента по умолчанию в функции? Как этого избежать?</h2>\n",
    "</div>"
   ]
  },
  {
   "cell_type": "code",
   "execution_count": 7,
   "id": "d44909bc-b52c-4076-aee0-0c4d28425be0",
   "metadata": {},
   "outputs": [
    {
     "name": "stdout",
     "output_type": "stream",
     "text": [
      "[1]\n",
      "[1]\n",
      "[1, 1]\n",
      "[1]\n"
     ]
    }
   ],
   "source": [
    "def some(a=[]):\n",
    "    a.append(1)\n",
    "    return a\n",
    "\n",
    "print(some())\n",
    "print(some([]))\n",
    "print(some())\n",
    "print(some([]))"
   ]
  },
  {
   "cell_type": "markdown",
   "id": "fd277464-182b-495c-a3c9-2194be5be14d",
   "metadata": {},
   "source": [
    "Как избежать?\n",
    "Создавать изменяемое значение внутри функции, а не в сигнатуре функции"
   ]
  },
  {
   "cell_type": "code",
   "execution_count": 8,
   "id": "a10cc80e-a41a-42e9-b30e-5ad12e268097",
   "metadata": {},
   "outputs": [
    {
     "name": "stdout",
     "output_type": "stream",
     "text": [
      "[1]\n",
      "[1]\n",
      "[1]\n",
      "[1]\n"
     ]
    }
   ],
   "source": [
    "def some(a=None):\n",
    "    if a is None:\n",
    "        a = []\n",
    "    a.append(1)\n",
    "    return a\n",
    "\n",
    "print(some())\n",
    "print(some([]))\n",
    "print(some())\n",
    "print(some([]))"
   ]
  },
  {
   "cell_type": "markdown",
   "id": "46bc3d33-2963-427b-a507-b7240a7e4750",
   "metadata": {},
   "source": [
    "<div style=\"background-color: #eef5fa; padding: 15px; \">\n",
    "    <h2 style=\"margin-top: 0; color: black;\">Что такое *args и **kwargs?</h2>\n",
    "        <h2 style=\"margin-top: 0; color: black;\">Какие типы данных для них используются?</h2>\n",
    "</div>"
   ]
  },
  {
   "cell_type": "markdown",
   "id": "f5737d27-7152-4812-beb2-7d89d5d35053",
   "metadata": {},
   "source": [
    "*args — это сокращение от «arguments» (аргументы), а **kwargs — сокращение от «keyword arguments» (именованные аргументы). \n",
    "*args и **kwargs — это способы передачи переменного количества аргументов в функцию. Слова args и kwargs — это просто соглашение, их можно заменить на любые другие названия. Важными здесь являются звездочки (* и **), которые указывают на способ передачи аргументов."
   ]
  },
  {
   "cell_type": "markdown",
   "id": "dde1380f-709d-4a63-b4db-d0d2ecbce539",
   "metadata": {},
   "source": [
    "Оператор * позволяет «распаковывать» объекты, внутри которых хранятся некие элементы.\n",
    "*args используется для передачи неопределенного числа неименованных аргументов. Если поставить звездочку перед именем, это имя будет представлять собой кортеж из всех переданных аргументов функции."
   ]
  },
  {
   "cell_type": "code",
   "execution_count": 11,
   "id": "a95b4565-01dc-4e52-aa3b-bc1c8e5d4e54",
   "metadata": {},
   "outputs": [
    {
     "name": "stdout",
     "output_type": "stream",
     "text": [
      "[1, 2, 3, 4, 5, 6]\n"
     ]
    }
   ],
   "source": [
    "a = [1,2,3]\n",
    "b = [*a,4,5,6]\n",
    "print(b)"
   ]
  },
  {
   "cell_type": "code",
   "execution_count": 10,
   "id": "7f34faa8-84e8-4ee4-b0e6-7ac2d01f09bd",
   "metadata": {},
   "outputs": [
    {
     "name": "stdout",
     "output_type": "stream",
     "text": [
      "1\n",
      "2\n",
      "3\n",
      "4\n"
     ]
    }
   ],
   "source": [
    "def function(*args):\n",
    "    for i in args:\n",
    "        print(i)\n",
    " \n",
    "function(1, 2, 3, 4)"
   ]
  },
  {
   "cell_type": "markdown",
   "id": "ee8d4174-6f4e-46ef-a1cf-a42860f25861",
   "metadata": {},
   "source": [
    "**kwargs работает так же, как и *args, но вместо кортежа используется словарь. Это позволяет функции принимать любое количество именованных аргументов."
   ]
  },
  {
   "cell_type": "code",
   "execution_count": 12,
   "id": "5999f379-92cf-4699-bb04-956571898a63",
   "metadata": {},
   "outputs": [
    {
     "name": "stdout",
     "output_type": "stream",
     "text": [
      "a = 1\n",
      "b = 2\n",
      "c = 3\n"
     ]
    }
   ],
   "source": [
    "def function(**kwargs):\n",
    "    for name, value in kwargs.items():\n",
    "        print(f'{name} = {value}')\n",
    " \n",
    "function(a=1, b=2, c=3)"
   ]
  },
  {
   "cell_type": "code",
   "execution_count": 13,
   "id": "1d42250c-f807-4b2e-b7a2-974fcad976dd",
   "metadata": {},
   "outputs": [
    {
     "name": "stdout",
     "output_type": "stream",
     "text": [
      "{'args': (1, 2, 3), 'kwargs': {'a': 1, 'b': 2, 'c': 3}}\n"
     ]
    }
   ],
   "source": [
    "def some(*args, **kwargs):\n",
    "    print(locals())\n",
    "some(1,2,3, a=1, b=2, c=3)"
   ]
  },
  {
   "cell_type": "markdown",
   "id": "6190183b-fe49-41d0-9d84-8b1a0a1d6f0b",
   "metadata": {},
   "source": [
    "<div style=\"background-color: #eef5fa; padding: 15px; \">\n",
    "    <h2 style=\"margin-top: 0; color: black;\">Что такое lambda функция? Приведи примеры их использования.</h2>\n",
    "</div>"
   ]
  },
  {
   "cell_type": "markdown",
   "id": "7bb0a940-285b-4ff5-a5de-770c2c90fb75",
   "metadata": {},
   "source": [
    "**Lambda функция** - функция, у которой нет имени, как правило какая-то короткая, которая выполняет одно действие и просто нет необходимости вводить какое-то имя"
   ]
  },
  {
   "cell_type": "code",
   "execution_count": 15,
   "id": "5c7cc161-bf5b-4506-9cc4-3f6a40a353a9",
   "metadata": {},
   "outputs": [
    {
     "name": "stdout",
     "output_type": "stream",
     "text": [
      "1\n"
     ]
    }
   ],
   "source": [
    "a = {\n",
    "    1:3,\n",
    "    2:2,\n",
    "    3:1,\n",
    "}\n",
    "print(max(a, key=lambda x:a[x]))"
   ]
  },
  {
   "cell_type": "markdown",
   "id": "8ed84435-436b-4e0f-bedb-71c8b912586e",
   "metadata": {},
   "source": [
    "<div style=\"background-color: #eef5fa; padding: 15px; \">\n",
    "    <h2 style=\"margin-top: 0; color: black;\">Что такое рекурсия?</h2>\n",
    "        <h2 style=\"margin-top: 0; color: black;\">Какие есть ограничения у рекурсии в Python?</h2>\n",
    "        <h2 style=\"margin-top: 0; color: black;\">Расскажи о плюсах и минусах использования рекурсии.</h2>\n",
    "</div>"
   ]
  },
  {
   "cell_type": "markdown",
   "id": "1f99fa91-22b1-4cc4-93f4-aceaeaa814f4",
   "metadata": {},
   "source": [
    "**Рекурсия** - механизм, когда функция вызывает саму себя."
   ]
  },
  {
   "cell_type": "markdown",
   "id": "63d68f74-b8df-48e0-831e-d382dd8e76b6",
   "metadata": {},
   "source": [
    "***Плюсы:***\n",
    "* Часто код с рекурсией короче и проще, чем код цикла. Это облегчает его написание и понимание другими разработчиками.\n",
    "* Есть алгоритмы, которые описываются рекурсией гораздо проще. Например, обход древовидных структур для сортировки."
   ]
  },
  {
   "cell_type": "markdown",
   "id": "bb42af83-644a-4890-8244-216e5f813c11",
   "metadata": {},
   "source": [
    "***Минусы:***\n",
    "* Будет использовано больше памяти, нежели если мы будем использовать цикл\n",
    "* Нередко требует больше времени на выполнение, если число строк в рекурсии и аналогичном цикле не различается на порядки.\n",
    "* Если забыть прописать условие выхода, рекурсия будет выполняться бесконечно — программу придётся завершать принудительно."
   ]
  },
  {
   "cell_type": "code",
   "execution_count": 16,
   "id": "348ea8aa-e02d-4214-b43d-cad7f28c3222",
   "metadata": {},
   "outputs": [],
   "source": [
    "def factorial(n):\n",
    "    if n == 1:\n",
    "        return n\n",
    "    else:\n",
    "        return n * factorial(n-1)"
   ]
  },
  {
   "cell_type": "code",
   "execution_count": 17,
   "id": "9812eb32-d3ab-4bd4-a0cf-b97a207202b9",
   "metadata": {},
   "outputs": [],
   "source": [
    "def factorial(n):\n",
    "    num = 1\n",
    "    while n >= 1:\n",
    "        num = num * n\n",
    "        n = n-1\n",
    "        return num"
   ]
  },
  {
   "cell_type": "markdown",
   "id": "e6e63ace-f1cc-496c-93f6-4a65da86a685",
   "metadata": {},
   "source": [
    "***Ограничения:***\n",
    "* Python накладывает ограничение в 3000 вызовов на рекурсию"
   ]
  },
  {
   "cell_type": "code",
   "execution_count": 18,
   "id": "dd7cdada-ed6b-4ec6-9fd4-988af52d76d8",
   "metadata": {},
   "outputs": [
    {
     "name": "stdout",
     "output_type": "stream",
     "text": [
      "3000\n"
     ]
    }
   ],
   "source": [
    "import sys\n",
    "print(sys.getrecursionlimit())"
   ]
  },
  {
   "cell_type": "markdown",
   "id": "fe6dd567-9f29-4294-803b-f27dfb9bb030",
   "metadata": {},
   "source": [
    "<div style=\"background-color: #eef5fa; padding: 15px; \">\n",
    "    <h2 style=\"margin-top: 0; color: black;\">Что такое класс?</h2>\n",
    "</div>"
   ]
  },
  {
   "cell_type": "markdown",
   "id": "626ddd60-0c70-41b6-a489-f697715f4cc7",
   "metadata": {},
   "source": [
    "***Класс*** - модель для создания объектов определенного типа, описывающая их структуру и поведение."
   ]
  },
  {
   "cell_type": "markdown",
   "id": "92457699-b63d-41c8-9503-2f6302ad6a18",
   "metadata": {},
   "source": [
    "<div style=\"background-color: #eef5fa; padding: 15px; \">\n",
    "    <h2 style=\"margin-top: 0; color: black;\">Что такое объект класса?</h2>\n",
    "</div>"
   ]
  },
  {
   "cell_type": "markdown",
   "id": "26fa02f5-fc48-4cbd-8803-89839cc2d59e",
   "metadata": {},
   "source": [
    "***Объект класса*** - некоторая уникальная сущность определенного типа(класса), которая обладает структурой и поведением."
   ]
  },
  {
   "cell_type": "markdown",
   "id": "10055f1d-33f9-4067-9c24-4386e2bbb826",
   "metadata": {},
   "source": [
    "<div style=\"background-color: #eef5fa; padding: 15px; \">\n",
    "    <h2 style=\"margin-top: 0; color: black;\">Как реализовать метод объекта? Что такое self?</h2>\n",
    "</div>"
   ]
  },
  {
   "cell_type": "code",
   "execution_count": 19,
   "id": "6a0d9955-b276-4077-9f2c-1bdbee1c08f1",
   "metadata": {},
   "outputs": [
    {
     "name": "stdout",
     "output_type": "stream",
     "text": [
      "Hi, my name is Slava\n"
     ]
    }
   ],
   "source": [
    "class Person:\n",
    "    name: str #создаем атрибут\n",
    "\n",
    "    def __init__(self, name):#добавим инициализатор\n",
    "        self.name = name\n",
    "\n",
    "    def say_hi(self):#метод объекта первым аргументом принимают self(ссылка на сам объект)\n",
    "        print(f\"Hi, my name is {self.name}\")\n",
    "\n",
    "p = Person(\"Slava\")#создаем объект\n",
    "p.say_hi()"
   ]
  },
  {
   "cell_type": "markdown",
   "id": "2d23926b-f9e9-4b36-9d5f-ce94d251ef8f",
   "metadata": {},
   "source": [
    "<div style=\"background-color: #eef5fa; padding: 15px; \">\n",
    "    <h2 style=\"margin-top: 0; color: black;\">Как реализовать метод класса? Что такое cls?</h2>\n",
    "</div>"
   ]
  },
  {
   "cell_type": "markdown",
   "id": "cfe4acef-ac7c-4cc8-a35b-4cef3776a97b",
   "metadata": {},
   "source": [
    "***Метод класса*** значит что он принадлежит всему классу целиком.\n",
    "Первый аргумент - cls - ссылка на сам класс\n",
    "Внутри имеем доступ к самому классу и его атрибутам"
   ]
  },
  {
   "cell_type": "code",
   "execution_count": 22,
   "id": "0a1c72f7-1412-46c1-9497-a159b9764065",
   "metadata": {},
   "outputs": [
    {
     "name": "stdout",
     "output_type": "stream",
     "text": [
      "My Company\n"
     ]
    }
   ],
   "source": [
    "class Person:\n",
    "    work_place = \"My Company\"\n",
    "\n",
    "    @classmethod # можем вызывать без создания объекта\n",
    "    def get_my_work_place(cls):\n",
    "        return cls.work_place\n",
    "\n",
    "print(Person.get_my_work_place())"
   ]
  },
  {
   "cell_type": "markdown",
   "id": "42cb0aab-bc2f-4897-8a4d-78156c16604d",
   "metadata": {},
   "source": [
    "<div style=\"background-color: #eef5fa; padding: 15px; \">\n",
    "    <h2 style=\"margin-top: 0; color: black;\">Как реализовать статический метод?</h2>\n",
    "</div>"
   ]
  },
  {
   "cell_type": "code",
   "execution_count": 24,
   "id": "3b856e30-49ac-485e-8cc3-771849944236",
   "metadata": {},
   "outputs": [
    {
     "name": "stdout",
     "output_type": "stream",
     "text": [
      "2025-02-06 16:56:09.457643\n"
     ]
    }
   ],
   "source": [
    "from datetime import datetime\n",
    "class A:\n",
    "    @staticmethod\n",
    "    def get_current_datetime():#по умолчанию не принимают ничего\n",
    "        return datetime.now()\n",
    "\n",
    "print(A.get_current_datetime())#можно вызывать как из класса, так и из объекта класса"
   ]
  },
  {
   "cell_type": "markdown",
   "id": "51f5b7e8-88b0-41bd-9a0c-65b777fbcd77",
   "metadata": {},
   "source": [
    "<div style=\"background-color: #eef5fa; padding: 15px; \">\n",
    "    <h2 style=\"margin-top: 0; color: black;\">В Python нет модификаторов доступа и все по умолчанию public. Как в python реализуются public, private, protected методы и атрибуты?</h2>\n",
    "</div>"
   ]
  },
  {
   "cell_type": "code",
   "execution_count": null,
   "id": "4d29a512-7d85-43e5-9e48-83e1248937de",
   "metadata": {},
   "outputs": [],
   "source": [
    "class A:\n",
    "    public = 123#атрибут или метод без подчерк.\n",
    "    _pritected = 123\n",
    "    __private = 123"
   ]
  },
  {
   "cell_type": "markdown",
   "id": "98d80bb2-801c-45ee-a628-fa1f8597ac99",
   "metadata": {},
   "source": [
    "<div style=\"background-color: #eef5fa; padding: 15px; \">\n",
    "    <h2 style=\"margin-top: 0; color: black;\">Как получить доступ к private атрибуту/методу из объекта?</h2>\n",
    "</div>"
   ]
  },
  {
   "cell_type": "code",
   "execution_count": 28,
   "id": "27681b44-c6ab-4604-8a85-98e9cd45714d",
   "metadata": {},
   "outputs": [
    {
     "name": "stdout",
     "output_type": "stream",
     "text": [
      "123\n"
     ]
    }
   ],
   "source": [
    "class A:\n",
    "    public = 123#атрибут или метод без подчерк.\n",
    "    _pritected = 123\n",
    "    __private = 123\n",
    "\n",
    "a = A()#создаем объект\n",
    "#напрямую доступ не получится получить\n",
    "#print(a.__private)\n",
    "#Python искажает имена приватных атрибутов\n",
    "print(a._A__private)"
   ]
  },
  {
   "cell_type": "markdown",
   "id": "1a40ee8f-8e38-4474-b5cb-c42de3613f31",
   "metadata": {},
   "source": [
    "<div style=\"background-color: #eef5fa; padding: 15px; \">\n",
    "    <h2 style=\"margin-top: 0; color: black;\">Как в классах хранятся атрибуты и методы?</h2>\n",
    "</div>"
   ]
  },
  {
   "cell_type": "markdown",
   "id": "37749fca-7e0d-429b-8f48-3cdbf5d18b6c",
   "metadata": {},
   "source": [
    "Во всех классах атрибуты храняться в \n",
    "__dict__ - словарь, содержащий пространство имен класса, в котором хранятся атрибуты"
   ]
  },
  {
   "cell_type": "code",
   "execution_count": 30,
   "id": "5c699777-50dc-4d1e-94af-b1b5ae13a68c",
   "metadata": {},
   "outputs": [
    {
     "name": "stdout",
     "output_type": "stream",
     "text": [
      "{'__module__': '__main__', 'public': 123, '_pritected': 123, '_A__private': 123, 'some': <function A.some at 0x000001BCBA3EADE0>, 'some_classmethod': <classmethod(<function A.some_classmethod at 0x000001BCBA4A4720>)>, 'some_staticmethod': <staticmethod(<function A.some_staticmethod at 0x000001BCBA4A47C0>)>, '__dict__': <attribute '__dict__' of 'A' objects>, '__weakref__': <attribute '__weakref__' of 'A' objects>, '__doc__': None}\n"
     ]
    }
   ],
   "source": [
    "class A:\n",
    "    public = 123#атрибут или метод без подчерк.\n",
    "    _pritected = 123\n",
    "    __private = 123\n",
    "\n",
    "    def some(self):\n",
    "        print(\"instance method\")\n",
    "\n",
    "    @classmethod\n",
    "    def some_classmethod(cls):\n",
    "        print(\"class method\")\n",
    "    @staticmethod\n",
    "    def some_staticmethod():\n",
    "        print(\"staticmethod\")\n",
    "\n",
    "print(A.__dict__)"
   ]
  },
  {
   "cell_type": "markdown",
   "id": "c5c2398f-6a0e-452c-ac28-79a1a04c3559",
   "metadata": {},
   "source": [
    "<div style=\"background-color: #eef5fa; padding: 15px; \">\n",
    "    <h2 style=\"margin-top: 0; color: black;\">Чем отличается атрибут класса от атрибута объекта? Возможно ли использовать одинаковое имя для атрибута класса и атрибута объекта?</h2>\n",
    "</div>"
   ]
  },
  {
   "cell_type": "markdown",
   "id": "673f89e3-01b4-467c-8010-0dd5e9c86d78",
   "metadata": {},
   "source": [
    "* Атрибут класса принадлежит самому классу, а не объекту. Т.е., записываются в сам класс. И из объекта изменить атрибут класса нельзя. Обычно, это служебные свойства, которые нужны самому классу, а не будущим объектам.\n",
    "\n",
    "* Атрибуты объекта записываются в объект, созданный при помощи класса. Записываются они через ключевое слово self."
   ]
  },
  {
   "cell_type": "code",
   "execution_count": 31,
   "id": "94f9d597-665a-451e-bd33-fd147b3376e5",
   "metadata": {},
   "outputs": [],
   "source": [
    "class Person:\n",
    "    type = \"Person\" # атрибут класса\n",
    "    \n",
    "    def __init__(self, name):\n",
    "        self.name = name # атрибут объекта"
   ]
  },
  {
   "cell_type": "markdown",
   "id": "6116f81b-af04-441f-b5cb-466611cd71e5",
   "metadata": {},
   "source": [
    "<div style=\"background-color: #eef5fa; padding: 15px; \">\n",
    "    <h2 style=\"margin-top: 0; color: black;\">Что такое абстрактный класс? Зачем они нужны? Как они реализуются в Python?</h2>\n",
    "</div>"
   ]
  },
  {
   "cell_type": "markdown",
   "id": "ea3e2845-c281-4655-b24a-6e72fe7ea373",
   "metadata": {},
   "source": [
    "Абстрактные классы реализуются с помощью модуля `abc` (Abstract Base Classes). Не может быть инстанциирован напрямую и предназначен для того, чтобы служить базовым классом для других классов. \n",
    "Используются для определения общего интерфейса для группы классов и могут содержать один или несколько абстрактных методов. Объект этого класса нельзя создать, он просто определяет интерфейс.\n",
    "Абстрактный метод — это метод, объявленный в абстрактном классе, но должен быть реализован в подклассах.\n",
    "\n",
    "Пример создания абстрактного класса:\n",
    "\n",
    "1. Импортировать `ABC` и `abstractmethod` из модуля `abc`.\n",
    "2. Унаследовать класс от `ABC`, что делает его абстрактным.\n",
    "3. Определить один или несколько методов как абстрактные, используя декоратор `@abstractmethod`. Должны быть переопределены в неабстрактных подклассах.\n",
    "\n",
    "Пример абстрактного класса:"
   ]
  },
  {
   "cell_type": "code",
   "execution_count": 33,
   "id": "6279bfa8-231e-4ccc-b68c-0a146e93bc34",
   "metadata": {},
   "outputs": [
    {
     "ename": "SyntaxError",
     "evalue": "invalid syntax (803509943.py, line 14)",
     "output_type": "error",
     "traceback": [
      "\u001b[1;36m  Cell \u001b[1;32mIn[33], line 14\u001b[1;36m\u001b[0m\n\u001b[1;33m    Создание экземпляра абстрактного класса приведет к ошибке\u001b[0m\n\u001b[1;37m             ^\u001b[0m\n\u001b[1;31mSyntaxError\u001b[0m\u001b[1;31m:\u001b[0m invalid syntax\n"
     ]
    }
   ],
   "source": [
    "from abc import ABC, abstractmethod\n",
    "\n",
    "class AbstractClass(ABC):\n",
    "    \n",
    "    @abstractmethod\n",
    "    def abstract_method(self):\n",
    "        pass\n",
    "\n",
    "class ConcreteClass(AbstractClass):\n",
    "    \n",
    "    def abstract_method(self):#переопределяем метод из абстрактного класса\n",
    "        print(\"Реализация абстрактного метода в конкретном классе\")\n",
    "\n",
    "Создание экземпляра абстрактного класса приведет к ошибке\n",
    "abstract_instance = AbstractClass()  # TypeError\n",
    "\n",
    "Создание экземпляра конкретного класса, который реализует абстрактный метод\n",
    "concrete_instance = ConcreteClass()\n",
    "concrete_instance.abstract_method()"
   ]
  },
  {
   "cell_type": "markdown",
   "id": "0edb1618-15eb-401b-a11d-a4d436ee40a0",
   "metadata": {},
   "source": [
    "<div style=\"background-color: #eef5fa; padding: 15px; \">\n",
    "    <h2 style=\"margin-top: 0; color: black;\">Что такое list, set, dict comprehensions?  Приведите примеры использования.</h2>\n",
    "</div>"
   ]
  },
  {
   "cell_type": "code",
   "execution_count": null,
   "id": "d26fa153-f128-4696-bad1-ef941b2de42c",
   "metadata": {},
   "outputs": [],
   "source": []
  },
  {
   "cell_type": "markdown",
   "id": "8a75bf98-e221-4bdc-a825-9d8a5af1c412",
   "metadata": {},
   "source": [
    "<div style=\"background-color: #eef5fa; padding: 15px; \">\n",
    "    <h2 style=\"margin-top: 0; color: black;\">Какая разница между методами __new__ и __init__? Какой из них вызывается первым?</h2>\n",
    "</div>"
   ]
  },
  {
   "cell_type": "markdown",
   "id": "51509cb9-1439-465e-9ea2-d33541ef5b61",
   "metadata": {},
   "source": [
    "Основное различие между этими двумя методами состоит в том, что __new__ обрабатывает создание объекта, а __init__ обрабатывает его инициализацию.\n",
    "\n",
    "__new__ вызывается автоматически при вызове имени класса (при создании экземпляра), тогда как __init__ вызывается каждый раз, когда экземпляр класса возвращается __new__, передавая возвращаемый экземпляр в __init__ в качестве параметра self, поэтому даже если вы сохранили экземпляр где-нибудь глобально/статически и возвращали его каждый раз из __new__, для него все-равно будет каждый раз вызываться __init__.\n",
    "\n",
    "Из вышесказанного вытекает что сначала вызывается __new__, а потом __init__"
   ]
  },
  {
   "cell_type": "markdown",
   "id": "bed502df-e2c7-4a47-a829-bae57f933c36",
   "metadata": {},
   "source": [
    "<div style=\"background-color: #eef5fa; padding: 15px; \">\n",
    "    <h2 style=\"margin-top: 0; color: black;\">Какая разница между методами __str__ и __repr__? Какой из них использовать?</h2>\n",
    "</div>"
   ]
  },
  {
   "cell_type": "markdown",
   "id": "455aa63b-65d7-47a0-b3fe-5b654760eaf6",
   "metadata": {},
   "source": [
    "repr отвечает за то как объект будет отображаться внутри нашей системы\n",
    "\n",
    "str отвечает за то как объект будет отображаться для пользователя. Определяет строковое представление объекта. *str* по умолчанию, возвращает строковое представление адреса памяти объекта.\n",
    "\n",
    "Цель метода: Предоставить удобочитаемое строковое представление объекта"
   ]
  },
  {
   "cell_type": "code",
   "execution_count": 34,
   "id": "486f5c7a-baaa-4a50-9e5e-72ea16e6f235",
   "metadata": {},
   "outputs": [
    {
     "name": "stdout",
     "output_type": "stream",
     "text": [
      "__str__ method: Vasya Pypkin\n"
     ]
    }
   ],
   "source": [
    "class User:\n",
    "    def __init__(self, first_name, last_name):\n",
    "        self.first_name = first_name\n",
    "        self.last_name = last_name\n",
    "\n",
    "    def __str__(self):\n",
    "        return f\"__str__ method: {self.first_name} {self.last_name}\"\n",
    "\n",
    "    def __repr__(self):\n",
    "        return f\"__repr__ method: {self.first_name} {self.last_name}\"\n",
    "\n",
    "user = User(\"Vasya\", \"Pypkin\")\n",
    "print(f\"{user}\")"
   ]
  },
  {
   "cell_type": "markdown",
   "id": "e6283a3d-5ca1-4800-8f26-ee07b12846cc",
   "metadata": {},
   "source": [
    "<div style=\"background-color: #eef5fa; padding: 15px; \">\n",
    "    <h2 style=\"margin-top: 0; color: black;\">Зачем может быть использована функция super?</h2>\n",
    "</div>"
   ]
  },
  {
   "cell_type": "markdown",
   "id": "3935c373-a497-4b36-a421-bc44582b4bd1",
   "metadata": {},
   "source": [
    "super() нужен для того чтобы вызвать метод у родительского класса\n",
    "\n",
    "Чаще всего это используется в Init, чтобы не повторять код и не присваивать атрибуты в дочернем классе"
   ]
  },
  {
   "cell_type": "code",
   "execution_count": 35,
   "id": "7d26e162-728e-41ec-9b47-485530244de7",
   "metadata": {},
   "outputs": [],
   "source": [
    "class Person:\n",
    "    def __init__(self, name, surname):\n",
    "        self.name = name\n",
    "        self.surname = surname\n",
    "\n",
    "\n",
    "class Doctor(Person):\n",
    "    def __init__(self, name, surname, age):\n",
    "        super().__init__(name, surname)\n",
    "        self.age = age"
   ]
  },
  {
   "cell_type": "markdown",
   "id": "486bf6b7-f664-4929-bc0a-efe5a7ca0415",
   "metadata": {},
   "source": [
    "<div style=\"background-color: #eef5fa; padding: 15px; \">\n",
    "    <h2 style=\"margin-top: 0; color: black;\">Что такое ООП?</h2>\n",
    "</div>"
   ]
  },
  {
   "cell_type": "markdown",
   "id": "85fb2f05-1e81-47e4-8789-66784d2fdffd",
   "metadata": {},
   "source": [
    "***ООП***(Объектно-ориентированное программирование) - методология программирования, основнная на представлении программы в виде совокупности объектов, каждый их которых является экземпляром определенного класса, а классы образуют иерархию наследования."
   ]
  },
  {
   "cell_type": "markdown",
   "id": "f2bd7835-4114-4ff3-a4f2-f9fb9961d488",
   "metadata": {},
   "source": [
    "<div style=\"background-color: #eef5fa; padding: 15px; \">\n",
    "    <h2 style=\"margin-top: 0; color: black;\">Какие знаешь принципы ООП?</h2>\n",
    "</div>"
   ]
  },
  {
   "cell_type": "markdown",
   "id": "09c6e59a-09d5-43b4-8d31-49abafa088ea",
   "metadata": {},
   "source": [
    "* ***Абстракция*** - это использование только тех характеристик объекта, которые с достаточной точностью представляют его. Нужно представить объект минимальным набором полей и методов и при этом с достаточной точностью для решения задачи.\n",
    "* ***Наследование***— способ создания класса. Его суть заключается в том, что функциональность нового класса наследуются от уже существующего класса. Новый класс называется производным (дочерним). Существующий — базовым (родительским).\n",
    "* ***Инкапсуляция*** - 1. объединение переменных и функций, которые привержены общей цели в классе. 2. разграничение абстракции от реализации\n",
    "* ***Полиморфизм***(ad-hoc полиморфизм - когда функция может иметь множество имплементаций в зависимости от типов входящих аргументов, параметрический полиморфизм — особенность ООП, позволяющая использовать одну функцию для разных форм (типов данных).)  "
   ]
  }
 ],
 "metadata": {
  "kernelspec": {
   "display_name": "Python 3 (ipykernel)",
   "language": "python",
   "name": "python3"
  },
  "language_info": {
   "codemirror_mode": {
    "name": "ipython",
    "version": 3
   },
   "file_extension": ".py",
   "mimetype": "text/x-python",
   "name": "python",
   "nbconvert_exporter": "python",
   "pygments_lexer": "ipython3",
   "version": "3.12.3"
  }
 },
 "nbformat": 4,
 "nbformat_minor": 5
}
